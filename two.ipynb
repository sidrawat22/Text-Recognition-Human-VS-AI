{
 "cells": [
  {
   "cell_type": "code",
   "execution_count": 1,
   "metadata": {},
   "outputs": [],
   "source": [
    "import numpy as np\n",
    "import pandas as pd\n",
    "import re"
   ]
  },
  {
   "cell_type": "code",
   "execution_count": 2,
   "metadata": {},
   "outputs": [
    {
     "data": {
      "text/html": [
       "<div>\n",
       "<style scoped>\n",
       "    .dataframe tbody tr th:only-of-type {\n",
       "        vertical-align: middle;\n",
       "    }\n",
       "\n",
       "    .dataframe tbody tr th {\n",
       "        vertical-align: top;\n",
       "    }\n",
       "\n",
       "    .dataframe thead th {\n",
       "        text-align: right;\n",
       "    }\n",
       "</style>\n",
       "<table border=\"1\" class=\"dataframe\">\n",
       "  <thead>\n",
       "    <tr style=\"text-align: right;\">\n",
       "      <th></th>\n",
       "      <th>text</th>\n",
       "      <th>model</th>\n",
       "      <th>source</th>\n",
       "      <th>label</th>\n",
       "    </tr>\n",
       "  </thead>\n",
       "  <tbody>\n",
       "    <tr>\n",
       "      <th>0</th>\n",
       "      <td>Title: End-to-End Learnable Histogram Filters\\...</td>\n",
       "      <td>chatGPT</td>\n",
       "      <td>peerread</td>\n",
       "      <td>1</td>\n",
       "    </tr>\n",
       "    <tr>\n",
       "      <th>1</th>\n",
       "      <td>The paper \"End-to-End Learnable Histogram Filt...</td>\n",
       "      <td>chatGPT</td>\n",
       "      <td>peerread</td>\n",
       "      <td>1</td>\n",
       "    </tr>\n",
       "    <tr>\n",
       "      <th>2</th>\n",
       "      <td>Summary: \\r\\n\\r\\nThis paper introduces the con...</td>\n",
       "      <td>chatGPT</td>\n",
       "      <td>peerread</td>\n",
       "      <td>1</td>\n",
       "    </tr>\n",
       "    <tr>\n",
       "      <th>3</th>\n",
       "      <td>This paper addresses the problem of finding a ...</td>\n",
       "      <td>chatGPT</td>\n",
       "      <td>peerread</td>\n",
       "      <td>1</td>\n",
       "    </tr>\n",
       "    <tr>\n",
       "      <th>4</th>\n",
       "      <td>Title: Rotation Plane Doubly Orthogonal Recurr...</td>\n",
       "      <td>chatGPT</td>\n",
       "      <td>peerread</td>\n",
       "      <td>1</td>\n",
       "    </tr>\n",
       "  </tbody>\n",
       "</table>\n",
       "</div>"
      ],
      "text/plain": [
       "                                                text    model    source  label\n",
       "0  Title: End-to-End Learnable Histogram Filters\\...  chatGPT  peerread      1\n",
       "1  The paper \"End-to-End Learnable Histogram Filt...  chatGPT  peerread      1\n",
       "2  Summary: \\r\\n\\r\\nThis paper introduces the con...  chatGPT  peerread      1\n",
       "3  This paper addresses the problem of finding a ...  chatGPT  peerread      1\n",
       "4  Title: Rotation Plane Doubly Orthogonal Recurr...  chatGPT  peerread      1"
      ]
     },
     "execution_count": 2,
     "metadata": {},
     "output_type": "execute_result"
    }
   ],
   "source": [
    "df=pd.read_csv('subtaskB_dev.csv')\n",
    "df.head()"
   ]
  },
  {
   "cell_type": "code",
   "execution_count": 3,
   "metadata": {},
   "outputs": [
    {
     "data": {
      "text/html": [
       "<div>\n",
       "<style scoped>\n",
       "    .dataframe tbody tr th:only-of-type {\n",
       "        vertical-align: middle;\n",
       "    }\n",
       "\n",
       "    .dataframe tbody tr th {\n",
       "        vertical-align: top;\n",
       "    }\n",
       "\n",
       "    .dataframe thead th {\n",
       "        text-align: right;\n",
       "    }\n",
       "</style>\n",
       "<table border=\"1\" class=\"dataframe\">\n",
       "  <thead>\n",
       "    <tr style=\"text-align: right;\">\n",
       "      <th></th>\n",
       "      <th>text</th>\n",
       "      <th>model</th>\n",
       "      <th>source</th>\n",
       "      <th>label</th>\n",
       "    </tr>\n",
       "  </thead>\n",
       "  <tbody>\n",
       "    <tr>\n",
       "      <th>0</th>\n",
       "      <td>Title: End-to-End Learnable Histogram Filters\\...</td>\n",
       "      <td>chatGPT</td>\n",
       "      <td>peerread</td>\n",
       "      <td>1</td>\n",
       "    </tr>\n",
       "    <tr>\n",
       "      <th>1</th>\n",
       "      <td>The paper \"End-to-End Learnable Histogram Filt...</td>\n",
       "      <td>chatGPT</td>\n",
       "      <td>peerread</td>\n",
       "      <td>1</td>\n",
       "    </tr>\n",
       "    <tr>\n",
       "      <th>2</th>\n",
       "      <td>Summary: \\r\\n\\r\\nThis paper introduces the con...</td>\n",
       "      <td>chatGPT</td>\n",
       "      <td>peerread</td>\n",
       "      <td>1</td>\n",
       "    </tr>\n",
       "    <tr>\n",
       "      <th>3</th>\n",
       "      <td>This paper addresses the problem of finding a ...</td>\n",
       "      <td>chatGPT</td>\n",
       "      <td>peerread</td>\n",
       "      <td>1</td>\n",
       "    </tr>\n",
       "    <tr>\n",
       "      <th>4</th>\n",
       "      <td>Title: Rotation Plane Doubly Orthogonal Recurr...</td>\n",
       "      <td>chatGPT</td>\n",
       "      <td>peerread</td>\n",
       "      <td>1</td>\n",
       "    </tr>\n",
       "    <tr>\n",
       "      <th>...</th>\n",
       "      <td>...</td>\n",
       "      <td>...</td>\n",
       "      <td>...</td>\n",
       "      <td>...</td>\n",
       "    </tr>\n",
       "    <tr>\n",
       "      <th>14560</th>\n",
       "      <td>The paper Energy-Based Spherical Sparse Coding...</td>\n",
       "      <td>dolly</td>\n",
       "      <td>peerread</td>\n",
       "      <td>5</td>\n",
       "    </tr>\n",
       "    <tr>\n",
       "      <th>14561</th>\n",
       "      <td>Dear Author, I have reviewed your submitted pa...</td>\n",
       "      <td>dolly</td>\n",
       "      <td>peerread</td>\n",
       "      <td>5</td>\n",
       "    </tr>\n",
       "    <tr>\n",
       "      <th>14562</th>\n",
       "      <td>Denoising Auto-Encoders (DAE) have been used i...</td>\n",
       "      <td>dolly</td>\n",
       "      <td>peerread</td>\n",
       "      <td>5</td>\n",
       "    </tr>\n",
       "    <tr>\n",
       "      <th>14563</th>\n",
       "      <td>The paper Revisiting Denoising Auto-Encoders, ...</td>\n",
       "      <td>dolly</td>\n",
       "      <td>peerread</td>\n",
       "      <td>5</td>\n",
       "    </tr>\n",
       "    <tr>\n",
       "      <th>14564</th>\n",
       "      <td>This paper Revisiting Denoising Auto-Encoders ...</td>\n",
       "      <td>dolly</td>\n",
       "      <td>peerread</td>\n",
       "      <td>5</td>\n",
       "    </tr>\n",
       "  </tbody>\n",
       "</table>\n",
       "<p>14565 rows × 4 columns</p>\n",
       "</div>"
      ],
      "text/plain": [
       "                                                    text    model    source  \\\n",
       "0      Title: End-to-End Learnable Histogram Filters\\...  chatGPT  peerread   \n",
       "1      The paper \"End-to-End Learnable Histogram Filt...  chatGPT  peerread   \n",
       "2      Summary: \\r\\n\\r\\nThis paper introduces the con...  chatGPT  peerread   \n",
       "3      This paper addresses the problem of finding a ...  chatGPT  peerread   \n",
       "4      Title: Rotation Plane Doubly Orthogonal Recurr...  chatGPT  peerread   \n",
       "...                                                  ...      ...       ...   \n",
       "14560  The paper Energy-Based Spherical Sparse Coding...    dolly  peerread   \n",
       "14561  Dear Author, I have reviewed your submitted pa...    dolly  peerread   \n",
       "14562  Denoising Auto-Encoders (DAE) have been used i...    dolly  peerread   \n",
       "14563  The paper Revisiting Denoising Auto-Encoders, ...    dolly  peerread   \n",
       "14564  This paper Revisiting Denoising Auto-Encoders ...    dolly  peerread   \n",
       "\n",
       "       label  \n",
       "0          1  \n",
       "1          1  \n",
       "2          1  \n",
       "3          1  \n",
       "4          1  \n",
       "...      ...  \n",
       "14560      5  \n",
       "14561      5  \n",
       "14562      5  \n",
       "14563      5  \n",
       "14564      5  \n",
       "\n",
       "[14565 rows x 4 columns]"
      ]
     },
     "execution_count": 3,
     "metadata": {},
     "output_type": "execute_result"
    }
   ],
   "source": [
    "df"
   ]
  },
  {
   "cell_type": "code",
   "execution_count": 4,
   "metadata": {},
   "outputs": [
    {
     "name": "stdout",
     "output_type": "stream",
     "text": [
      "<class 'pandas.core.frame.DataFrame'>\n",
      "RangeIndex: 14565 entries, 0 to 14564\n",
      "Data columns (total 4 columns):\n",
      " #   Column  Non-Null Count  Dtype \n",
      "---  ------  --------------  ----- \n",
      " 0   text    14565 non-null  object\n",
      " 1   model   14565 non-null  object\n",
      " 2   source  14565 non-null  object\n",
      " 3   label   14565 non-null  int64 \n",
      "dtypes: int64(1), object(3)\n",
      "memory usage: 455.3+ KB\n"
     ]
    }
   ],
   "source": [
    "df.info()"
   ]
  },
  {
   "cell_type": "code",
   "execution_count": 5,
   "metadata": {},
   "outputs": [
    {
     "data": {
      "text/plain": [
       "text      0\n",
       "model     0\n",
       "source    0\n",
       "label     0\n",
       "dtype: int64"
      ]
     },
     "execution_count": 5,
     "metadata": {},
     "output_type": "execute_result"
    }
   ],
   "source": [
    "df.isnull().sum()"
   ]
  },
  {
   "cell_type": "code",
   "execution_count": 6,
   "metadata": {},
   "outputs": [
    {
     "data": {
      "text/plain": [
       "model\n",
       "human      2857\n",
       "chatGPT    2344\n",
       "davinci    2344\n",
       "dolly      2344\n",
       "cohere     2342\n",
       "bloomz     2334\n",
       "Name: count, dtype: int64"
      ]
     },
     "execution_count": 6,
     "metadata": {},
     "output_type": "execute_result"
    }
   ],
   "source": [
    "df['model'].value_counts()"
   ]
  },
  {
   "cell_type": "code",
   "execution_count": 7,
   "metadata": {},
   "outputs": [],
   "source": [
    "\n",
    "import seaborn as sns\n",
    "import matplotlib.pyplot as plt"
   ]
  },
  {
   "cell_type": "code",
   "execution_count": 8,
   "metadata": {},
   "outputs": [
    {
     "data": {
      "text/plain": [
       "<Axes: xlabel='model', ylabel='count'>"
      ]
     },
     "execution_count": 8,
     "metadata": {},
     "output_type": "execute_result"
    },
    {
     "data": {
      "image/png": "[encoded data removed]",
      "text/plain": [
       "<Figure size 640x480 with 1 Axes>"
      ]
     },
     "metadata": {},
     "output_type": "display_data"
    }
   ],
   "source": [
    "sns.set_style('whitegrid')\n",
    "sns.countplot(x='model',hue='model',data=df)"
   ]
  },
  {
   "cell_type": "code",
   "execution_count": 9,
   "metadata": {},
   "outputs": [
    {
     "data": {
      "text/html": [
       "<div>\n",
       "<style scoped>\n",
       "    .dataframe tbody tr th:only-of-type {\n",
       "        vertical-align: middle;\n",
       "    }\n",
       "\n",
       "    .dataframe tbody tr th {\n",
       "        vertical-align: top;\n",
       "    }\n",
       "\n",
       "    .dataframe thead th {\n",
       "        text-align: right;\n",
       "    }\n",
       "</style>\n",
       "<table border=\"1\" class=\"dataframe\">\n",
       "  <thead>\n",
       "    <tr style=\"text-align: right;\">\n",
       "      <th></th>\n",
       "      <th>text</th>\n",
       "      <th>model</th>\n",
       "      <th>source</th>\n",
       "      <th>label</th>\n",
       "    </tr>\n",
       "  </thead>\n",
       "  <tbody>\n",
       "    <tr>\n",
       "      <th>0</th>\n",
       "      <td>Title: End-to-End Learnable Histogram Filters\\...</td>\n",
       "      <td>chatGPT</td>\n",
       "      <td>peerread</td>\n",
       "      <td>1</td>\n",
       "    </tr>\n",
       "    <tr>\n",
       "      <th>1</th>\n",
       "      <td>The paper \"End-to-End Learnable Histogram Filt...</td>\n",
       "      <td>chatGPT</td>\n",
       "      <td>peerread</td>\n",
       "      <td>1</td>\n",
       "    </tr>\n",
       "    <tr>\n",
       "      <th>2</th>\n",
       "      <td>Summary: \\r\\n\\r\\nThis paper introduces the con...</td>\n",
       "      <td>chatGPT</td>\n",
       "      <td>peerread</td>\n",
       "      <td>1</td>\n",
       "    </tr>\n",
       "    <tr>\n",
       "      <th>3</th>\n",
       "      <td>This paper addresses the problem of finding a ...</td>\n",
       "      <td>chatGPT</td>\n",
       "      <td>peerread</td>\n",
       "      <td>1</td>\n",
       "    </tr>\n",
       "    <tr>\n",
       "      <th>4</th>\n",
       "      <td>Title: Rotation Plane Doubly Orthogonal Recurr...</td>\n",
       "      <td>chatGPT</td>\n",
       "      <td>peerread</td>\n",
       "      <td>1</td>\n",
       "    </tr>\n",
       "  </tbody>\n",
       "</table>\n",
       "</div>"
      ],
      "text/plain": [
       "                                                text    model    source  label\n",
       "0  Title: End-to-End Learnable Histogram Filters\\...  chatGPT  peerread      1\n",
       "1  The paper \"End-to-End Learnable Histogram Filt...  chatGPT  peerread      1\n",
       "2  Summary: \\r\\n\\r\\nThis paper introduces the con...  chatGPT  peerread      1\n",
       "3  This paper addresses the problem of finding a ...  chatGPT  peerread      1\n",
       "4  Title: Rotation Plane Doubly Orthogonal Recurr...  chatGPT  peerread      1"
      ]
     },
     "execution_count": 9,
     "metadata": {},
     "output_type": "execute_result"
    }
   ],
   "source": [
    "df.head()"
   ]
  },
  {
   "cell_type": "code",
   "execution_count": 10,
   "metadata": {},
   "outputs": [],
   "source": [
    "df=df.iloc[0:,0:2]"
   ]
  },
  {
   "cell_type": "code",
   "execution_count": 11,
   "metadata": {},
   "outputs": [
    {
     "data": {
      "text/html": [
       "<div>\n",
       "<style scoped>\n",
       "    .dataframe tbody tr th:only-of-type {\n",
       "        vertical-align: middle;\n",
       "    }\n",
       "\n",
       "    .dataframe tbody tr th {\n",
       "        vertical-align: top;\n",
       "    }\n",
       "\n",
       "    .dataframe thead th {\n",
       "        text-align: right;\n",
       "    }\n",
       "</style>\n",
       "<table border=\"1\" class=\"dataframe\">\n",
       "  <thead>\n",
       "    <tr style=\"text-align: right;\">\n",
       "      <th></th>\n",
       "      <th>text</th>\n",
       "      <th>model</th>\n",
       "    </tr>\n",
       "  </thead>\n",
       "  <tbody>\n",
       "    <tr>\n",
       "      <th>0</th>\n",
       "      <td>Title: End-to-End Learnable Histogram Filters\\...</td>\n",
       "      <td>chatGPT</td>\n",
       "    </tr>\n",
       "    <tr>\n",
       "      <th>1</th>\n",
       "      <td>The paper \"End-to-End Learnable Histogram Filt...</td>\n",
       "      <td>chatGPT</td>\n",
       "    </tr>\n",
       "    <tr>\n",
       "      <th>2</th>\n",
       "      <td>Summary: \\r\\n\\r\\nThis paper introduces the con...</td>\n",
       "      <td>chatGPT</td>\n",
       "    </tr>\n",
       "    <tr>\n",
       "      <th>3</th>\n",
       "      <td>This paper addresses the problem of finding a ...</td>\n",
       "      <td>chatGPT</td>\n",
       "    </tr>\n",
       "    <tr>\n",
       "      <th>4</th>\n",
       "      <td>Title: Rotation Plane Doubly Orthogonal Recurr...</td>\n",
       "      <td>chatGPT</td>\n",
       "    </tr>\n",
       "    <tr>\n",
       "      <th>...</th>\n",
       "      <td>...</td>\n",
       "      <td>...</td>\n",
       "    </tr>\n",
       "    <tr>\n",
       "      <th>14560</th>\n",
       "      <td>The paper Energy-Based Spherical Sparse Coding...</td>\n",
       "      <td>dolly</td>\n",
       "    </tr>\n",
       "    <tr>\n",
       "      <th>14561</th>\n",
       "      <td>Dear Author, I have reviewed your submitted pa...</td>\n",
       "      <td>dolly</td>\n",
       "    </tr>\n",
       "    <tr>\n",
       "      <th>14562</th>\n",
       "      <td>Denoising Auto-Encoders (DAE) have been used i...</td>\n",
       "      <td>dolly</td>\n",
       "    </tr>\n",
       "    <tr>\n",
       "      <th>14563</th>\n",
       "      <td>The paper Revisiting Denoising Auto-Encoders, ...</td>\n",
       "      <td>dolly</td>\n",
       "    </tr>\n",
       "    <tr>\n",
       "      <th>14564</th>\n",
       "      <td>This paper Revisiting Denoising Auto-Encoders ...</td>\n",
       "      <td>dolly</td>\n",
       "    </tr>\n",
       "  </tbody>\n",
       "</table>\n",
       "<p>14565 rows × 2 columns</p>\n",
       "</div>"
      ],
      "text/plain": [
       "                                                    text    model\n",
       "0      Title: End-to-End Learnable Histogram Filters\\...  chatGPT\n",
       "1      The paper \"End-to-End Learnable Histogram Filt...  chatGPT\n",
       "2      Summary: \\r\\n\\r\\nThis paper introduces the con...  chatGPT\n",
       "3      This paper addresses the problem of finding a ...  chatGPT\n",
       "4      Title: Rotation Plane Doubly Orthogonal Recurr...  chatGPT\n",
       "...                                                  ...      ...\n",
       "14560  The paper Energy-Based Spherical Sparse Coding...    dolly\n",
       "14561  Dear Author, I have reviewed your submitted pa...    dolly\n",
       "14562  Denoising Auto-Encoders (DAE) have been used i...    dolly\n",
       "14563  The paper Revisiting Denoising Auto-Encoders, ...    dolly\n",
       "14564  This paper Revisiting Denoising Auto-Encoders ...    dolly\n",
       "\n",
       "[14565 rows x 2 columns]"
      ]
     },
     "execution_count": 11,
     "metadata": {},
     "output_type": "execute_result"
    }
   ],
   "source": [
    "df"
   ]
  },
  {
   "cell_type": "code",
   "execution_count": 12,
   "metadata": {},
   "outputs": [
    {
     "name": "stdout",
     "output_type": "stream",
     "text": [
      "<class 'pandas.core.frame.DataFrame'>\n",
      "RangeIndex: 14565 entries, 0 to 14564\n",
      "Data columns (total 2 columns):\n",
      " #   Column  Non-Null Count  Dtype \n",
      "---  ------  --------------  ----- \n",
      " 0   text    14565 non-null  object\n",
      " 1   model   14565 non-null  object\n",
      "dtypes: object(2)\n",
      "memory usage: 227.7+ KB\n"
     ]
    }
   ],
   "source": [
    "df.info()"
   ]
  },
  {
   "cell_type": "code",
   "execution_count": 13,
   "metadata": {},
   "outputs": [
    {
     "data": {
      "text/html": [
       "<div>\n",
       "<style scoped>\n",
       "    .dataframe tbody tr th:only-of-type {\n",
       "        vertical-align: middle;\n",
       "    }\n",
       "\n",
       "    .dataframe tbody tr th {\n",
       "        vertical-align: top;\n",
       "    }\n",
       "\n",
       "    .dataframe thead th {\n",
       "        text-align: right;\n",
       "    }\n",
       "</style>\n",
       "<table border=\"1\" class=\"dataframe\">\n",
       "  <thead>\n",
       "    <tr style=\"text-align: right;\">\n",
       "      <th></th>\n",
       "      <th>text</th>\n",
       "      <th>model</th>\n",
       "    </tr>\n",
       "  </thead>\n",
       "  <tbody>\n",
       "    <tr>\n",
       "      <th>12122</th>\n",
       "      <td>The authors present an interesting approach to...</td>\n",
       "      <td>bloomz</td>\n",
       "    </tr>\n",
       "    <tr>\n",
       "      <th>4480</th>\n",
       "      <td>Dear Authors,\\r\\n\\r\\nPlease resubmit your pape...</td>\n",
       "      <td>human</td>\n",
       "    </tr>\n",
       "    <tr>\n",
       "      <th>6450</th>\n",
       "      <td>\\r\\n\\r\\nThis paper addresses the problem of cr...</td>\n",
       "      <td>davinci</td>\n",
       "    </tr>\n",
       "    <tr>\n",
       "      <th>8317</th>\n",
       "      <td>\\r\\nThis paper addresses the problem of design...</td>\n",
       "      <td>cohere</td>\n",
       "    </tr>\n",
       "    <tr>\n",
       "      <th>8386</th>\n",
       "      <td>\\r\\nThis paper evaluates the impact of differe...</td>\n",
       "      <td>cohere</td>\n",
       "    </tr>\n",
       "    <tr>\n",
       "      <th>...</th>\n",
       "      <td>...</td>\n",
       "      <td>...</td>\n",
       "    </tr>\n",
       "    <tr>\n",
       "      <th>4944</th>\n",
       "      <td>The multiagent system is proposed as a general...</td>\n",
       "      <td>human</td>\n",
       "    </tr>\n",
       "    <tr>\n",
       "      <th>6629</th>\n",
       "      <td>\\r\\n\\r\\nThis paper presents an approach to aut...</td>\n",
       "      <td>davinci</td>\n",
       "    </tr>\n",
       "    <tr>\n",
       "      <th>3097</th>\n",
       "      <td>The paper describes an MT training data select...</td>\n",
       "      <td>human</td>\n",
       "    </tr>\n",
       "    <tr>\n",
       "      <th>8489</th>\n",
       "      <td>\\r\\nThis paper addresses the problem of semi-s...</td>\n",
       "      <td>cohere</td>\n",
       "    </tr>\n",
       "    <tr>\n",
       "      <th>7315</th>\n",
       "      <td>\\r\\n\\r\\nThis paper presents a novel method to ...</td>\n",
       "      <td>davinci</td>\n",
       "    </tr>\n",
       "  </tbody>\n",
       "</table>\n",
       "<p>14565 rows × 2 columns</p>\n",
       "</div>"
      ],
      "text/plain": [
       "                                                    text    model\n",
       "12122  The authors present an interesting approach to...   bloomz\n",
       "4480   Dear Authors,\\r\\n\\r\\nPlease resubmit your pape...    human\n",
       "6450   \\r\\n\\r\\nThis paper addresses the problem of cr...  davinci\n",
       "8317   \\r\\nThis paper addresses the problem of design...   cohere\n",
       "8386   \\r\\nThis paper evaluates the impact of differe...   cohere\n",
       "...                                                  ...      ...\n",
       "4944   The multiagent system is proposed as a general...    human\n",
       "6629   \\r\\n\\r\\nThis paper presents an approach to aut...  davinci\n",
       "3097   The paper describes an MT training data select...    human\n",
       "8489   \\r\\nThis paper addresses the problem of semi-s...   cohere\n",
       "7315   \\r\\n\\r\\nThis paper presents a novel method to ...  davinci\n",
       "\n",
       "[14565 rows x 2 columns]"
      ]
     },
     "execution_count": 13,
     "metadata": {},
     "output_type": "execute_result"
    }
   ],
   "source": [
    "df=df.sample(frac=1)\n",
    "df"
   ]
  },
  {
   "cell_type": "code",
   "execution_count": 14,
   "metadata": {},
   "outputs": [],
   "source": [
    "from sklearn.model_selection import train_test_split\n",
    "X=df['text']\n",
    "y=df['model']\n",
    "X_train, X_test, y_train, y_test = train_test_split(X, y, test_size=0.2)"
   ]
  },
  {
   "cell_type": "code",
   "execution_count": 15,
   "metadata": {},
   "outputs": [],
   "source": [
    "from sklearn.feature_extraction.text import TfidfVectorizer\n",
    "vectorizer = TfidfVectorizer()\n",
    "X_train_tfidf = vectorizer.fit_transform(X_train)\n",
    "X_test_tfidf = vectorizer.transform(X_test)"
   ]
  },
  {
   "cell_type": "code",
   "execution_count": 16,
   "metadata": {},
   "outputs": [],
   "source": [
    "from sklearn.ensemble import VotingClassifier\n",
    "from sklearn.linear_model import LogisticRegression\n",
    "from sklearn.svm import SVC\n",
    "from sklearn.naive_bayes import MultinomialNB\n",
    "from sklearn.tree import DecisionTreeClassifier\n",
    "from sklearn.neighbors import KNeighborsClassifier\n",
    "from sklearn.ensemble import RandomForestClassifier,ExtraTreesClassifier,AdaBoostClassifier,BaggingClassifier,GradientBoostingClassifier"
   ]
  },
  {
   "cell_type": "code",
   "execution_count": 17,
   "metadata": {},
   "outputs": [],
   "source": [
    "lg = LogisticRegression(penalty='l1',solver='liblinear')\n",
    "sv = SVC(kernel='sigmoid',gamma=1.0)\n",
    "#mnb = MultinomialNB()\n",
    "#dtc = DecisionTreeClassifier(max_depth=5)\n",
    "knn = KNeighborsClassifier()\n",
    "rfc = RandomForestClassifier(n_estimators=50,random_state=2)\n",
    "etc = ExtraTreesClassifier(n_estimators=50,random_state=2)\n",
    "abc = AdaBoostClassifier(n_estimators=50,random_state=2)\n",
    "bg = BaggingClassifier(n_estimators=50,random_state=2)\n",
    "gbc = GradientBoostingClassifier(n_estimators=50,random_state=2)"
   ]
  },
  {
   "cell_type": "code",
   "execution_count": 18,
   "metadata": {},
   "outputs": [],
   "source": [
    "from sklearn import metrics"
   ]
  },
  {
   "cell_type": "code",
   "execution_count": 19,
   "metadata": {},
   "outputs": [],
   "source": [
    "def score_prediction(model, X_train, X_test, y_train, y_test):\n",
    "    model.fit(X_train, y_train)\n",
    "    pr = model.predict(X_test)\n",
    "    acc_score = metrics.accuracy_score(y_test, pr)\n",
    "    pre_score = metrics.precision_score(y_test, pr, average=\"weighted\")\n",
    "    recall = metrics.recall_score(y_test, pr, average=\"weighted\")\n",
    "    f1 = metrics.f1_score(y_test, pr, average=\"weighted\")\n",
    "    mcc = metrics.matthews_corrcoef(y_test, pr)\n",
    "    return acc_score, pre_score, recall, f1, mcc\n"
   ]
  },
  {
   "cell_type": "code",
   "execution_count": 20,
   "metadata": {},
   "outputs": [],
   "source": [
    "acc_score = {}\n",
    "pre_score = {}\n",
    "recall_score={}\n",
    "f1_score={}\n",
    "mcc_score={}\n",
    "clfs= {\n",
    "    'LR':lg,\n",
    "    'SVM':sv,\n",
    "    'KNN':knn,\n",
    "    'RFC':rfc,\n",
    "    'ETC':etc,\n",
    "    'ABC':abc,\n",
    "    'BG':bg,\n",
    "    'GBC':gbc,\n",
    "\n",
    "}"
   ]
  },
  {
   "cell_type": "code",
   "execution_count": 21,
   "metadata": {},
   "outputs": [],
   "source": [
    "for name,clf in clfs.items():\n",
    "    acc_score[name],pre_score[name],recall_score[name],f1_score[name],mcc_score[name] = score_prediction(clf,X_train_tfidf,X_test_tfidf,y_train,y_test)"
   ]
  },
  {
   "cell_type": "code",
   "execution_count": 22,
   "metadata": {},
   "outputs": [
    {
     "data": {
      "text/plain": [
       "{'LR': 0.9419842087195331,\n",
       " 'SVM': 0.9546858908341915,\n",
       " 'KNN': 0.3683487813250944,\n",
       " 'RFC': 0.9255063508410574,\n",
       " 'ETC': 0.9255063508410574,\n",
       " 'ABC': 0.38757294884998283,\n",
       " 'BG': 0.884998283556471,\n",
       " 'GBC': 0.9248197734294542}"
      ]
     },
     "execution_count": 22,
     "metadata": {},
     "output_type": "execute_result"
    }
   ],
   "source": [
    "acc_score"
   ]
  },
  {
   "cell_type": "code",
   "execution_count": 28,
   "metadata": {},
   "outputs": [
    {
     "data": {
      "image/png": "[encoded data removed]",
      "text/plain": [
       "<Figure size 640x480 with 1 Axes>"
      ]
     },
     "metadata": {},
     "output_type": "display_data"
    }
   ],
   "source": [
    "keys = list(acc_score.keys())\n",
    "values = list(acc_score.values())\n",
    "\n",
    "num_bars = len(keys)\n",
    "# Create a bar plot using Seaborn with different colors for each bar\n",
    "sns.barplot(x=keys, y=values,hue=keys,legend=False)\n",
    "plt.xlabel('Algorithms')\n",
    "plt.ylabel('Values')\n",
    "plt.title('Graph for Accuracy')\n",
    "\n",
    "# Show the plot\n",
    "plt.show()\n"
   ]
  },
  {
   "cell_type": "code",
   "execution_count": 29,
   "metadata": {},
   "outputs": [
    {
     "data": {
      "text/plain": [
       "{'LR': 0.9429160617586188,\n",
       " 'SVM': 0.9554275653755595,\n",
       " 'KNN': 0.5164112291279018,\n",
       " 'RFC': 0.9250886055937101,\n",
       " 'ETC': 0.924718585276268,\n",
       " 'ABC': 0.44459036887399556,\n",
       " 'BG': 0.884170913735843,\n",
       " 'GBC': 0.9252969224951002}"
      ]
     },
     "execution_count": 29,
     "metadata": {},
     "output_type": "execute_result"
    }
   ],
   "source": [
    "pre_score"
   ]
  },
  {
   "cell_type": "code",
   "execution_count": 30,
   "metadata": {},
   "outputs": [
    {
     "data": {
      "image/png": "[encoded data removed]",
      "text/plain": [
       "<Figure size 640x480 with 1 Axes>"
      ]
     },
     "metadata": {},
     "output_type": "display_data"
    }
   ],
   "source": [
    "keys = list(pre_score.keys())\n",
    "values = list(pre_score.values())\n",
    "\n",
    "num_bars = len(keys)\n",
    "# Create a bar plot using Seaborn with different colors for each bar\n",
    "sns.barplot(x=keys, y=values,hue=keys,legend=False)\n",
    "plt.xlabel('Algorithms')\n",
    "plt.ylabel('Values')\n",
    "plt.title('Graph for Precision')\n",
    "\n",
    "# Show the plot\n",
    "plt.show()\n"
   ]
  },
  {
   "cell_type": "code",
   "execution_count": 31,
   "metadata": {},
   "outputs": [
    {
     "data": {
      "text/plain": [
       "{'LR': 0.9419842087195331,\n",
       " 'SVM': 0.9546858908341915,\n",
       " 'KNN': 0.3683487813250944,\n",
       " 'RFC': 0.9255063508410574,\n",
       " 'ETC': 0.9255063508410574,\n",
       " 'ABC': 0.38757294884998283,\n",
       " 'BG': 0.884998283556471,\n",
       " 'GBC': 0.9248197734294542}"
      ]
     },
     "execution_count": 31,
     "metadata": {},
     "output_type": "execute_result"
    }
   ],
   "source": [
    "recall_score"
   ]
  },
  {
   "cell_type": "code",
   "execution_count": 32,
   "metadata": {},
   "outputs": [
    {
     "data": {
      "image/png": "[encoded data removed]",
      "text/plain": [
       "<Figure size 640x480 with 1 Axes>"
      ]
     },
     "metadata": {},
     "output_type": "display_data"
    }
   ],
   "source": [
    "keys = list(recall_score.keys())\n",
    "values = list(recall_score.values())\n",
    "\n",
    "num_bars = len(keys)\n",
    "# Create a bar plot using Seaborn with different colors for each bar\n",
    "sns.barplot(x=keys, y=values,hue=keys,legend=False)\n",
    "plt.xlabel('Algorithms')\n",
    "plt.ylabel('Values')\n",
    "plt.title('Graph for Recall')\n",
    "\n",
    "# Show the plot\n",
    "plt.show()"
   ]
  },
  {
   "cell_type": "code",
   "execution_count": 33,
   "metadata": {},
   "outputs": [
    {
     "data": {
      "text/plain": [
       "{'LR': 0.9421146345583409,\n",
       " 'SVM': 0.9548270727871038,\n",
       " 'KNN': 0.3901854181758774,\n",
       " 'RFC': 0.9249137542001166,\n",
       " 'ETC': 0.9249622492606201,\n",
       " 'ABC': 0.340461756814495,\n",
       " 'BG': 0.8844039057827435,\n",
       " 'GBC': 0.9249232641287307}"
      ]
     },
     "execution_count": 33,
     "metadata": {},
     "output_type": "execute_result"
    }
   ],
   "source": [
    "f1_score"
   ]
  },
  {
   "cell_type": "code",
   "execution_count": 34,
   "metadata": {},
   "outputs": [
    {
     "data": {
      "image/png": "[encoded data removed]",
      "text/plain": [
       "<Figure size 640x480 with 1 Axes>"
      ]
     },
     "metadata": {},
     "output_type": "display_data"
    }
   ],
   "source": [
    "keys = list(f1_score.keys())\n",
    "values = list(f1_score.values())\n",
    "\n",
    "num_bars = len(keys)\n",
    "# Create a bar plot using Seaborn with different colors for each bar\n",
    "sns.barplot(x=keys, y=values,hue=keys,legend=False)\n",
    "plt.xlabel('Algorithms')\n",
    "plt.ylabel('Values')\n",
    "plt.title('Graph for f1 score')\n",
    "\n",
    "# Show the plot\n",
    "plt.show()"
   ]
  },
  {
   "cell_type": "code",
   "execution_count": 35,
   "metadata": {},
   "outputs": [
    {
     "data": {
      "text/plain": [
       "{'LR': 0.9303957317430739,\n",
       " 'SVM': 0.9455961997677454,\n",
       " 'KNN': 0.2586104984707206,\n",
       " 'RFC': 0.9105255942130979,\n",
       " 'ETC': 0.9104528515066727,\n",
       " 'ABC': 0.3125384973716608,\n",
       " 'BG': 0.8617461901150194,\n",
       " 'GBC': 0.9096374177258126}"
      ]
     },
     "execution_count": 35,
     "metadata": {},
     "output_type": "execute_result"
    }
   ],
   "source": [
    "mcc_score"
   ]
  },
  {
   "cell_type": "code",
   "execution_count": 36,
   "metadata": {},
   "outputs": [
    {
     "data": {
      "image/png": "[encoded data removed]",
      "text/plain": [
       "<Figure size 640x480 with 1 Axes>"
      ]
     },
     "metadata": {},
     "output_type": "display_data"
    }
   ],
   "source": [
    "keys = list(mcc_score.keys())\n",
    "values = list(mcc_score.values())\n",
    "\n",
    "num_bars = len(keys)\n",
    "# Create a bar plot using Seaborn with different colors for each bar\n",
    "sns.barplot(x=keys, y=values,hue=keys,legend=False)\n",
    "plt.xlabel('Algorithms')\n",
    "plt.ylabel('Values')\n",
    "plt.title('Graph for Matthews correlation coefficient ')\n",
    "\n",
    "# Show the plot\n",
    "plt.show()"
   ]
  },
  {
   "cell_type": "code",
   "execution_count": 39,
   "metadata": {},
   "outputs": [
    {
     "data": {
      "text/html": [
       "<style>#sk-container-id-3 {color: black;}#sk-container-id-3 pre{padding: 0;}#sk-container-id-3 div.sk-toggleable {background-color: white;}#sk-container-id-3 label.sk-toggleable__label {cursor: pointer;display: block;width: 100%;margin-bottom: 0;padding: 0.3em;box-sizing: border-box;text-align: center;}#sk-container-id-3 label.sk-toggleable__label-arrow:before {content: \"▸\";float: left;margin-right: 0.25em;color: #696969;}#sk-container-id-3 label.sk-toggleable__label-arrow:hover:before {color: black;}#sk-container-id-3 div.sk-estimator:hover label.sk-toggleable__label-arrow:before {color: black;}#sk-container-id-3 div.sk-toggleable__content {max-height: 0;max-width: 0;overflow: hidden;text-align: left;background-color: #f0f8ff;}#sk-container-id-3 div.sk-toggleable__content pre {margin: 0.2em;color: black;border-radius: 0.25em;background-color: #f0f8ff;}#sk-container-id-3 input.sk-toggleable__control:checked~div.sk-toggleable__content {max-height: 200px;max-width: 100%;overflow: auto;}#sk-container-id-3 input.sk-toggleable__control:checked~label.sk-toggleable__label-arrow:before {content: \"▾\";}#sk-container-id-3 div.sk-estimator input.sk-toggleable__control:checked~label.sk-toggleable__label {background-color: #d4ebff;}#sk-container-id-3 div.sk-label input.sk-toggleable__control:checked~label.sk-toggleable__label {background-color: #d4ebff;}#sk-container-id-3 input.sk-hidden--visually {border: 0;clip: rect(1px 1px 1px 1px);clip: rect(1px, 1px, 1px, 1px);height: 1px;margin: -1px;overflow: hidden;padding: 0;position: absolute;width: 1px;}#sk-container-id-3 div.sk-estimator {font-family: monospace;background-color: #f0f8ff;border: 1px dotted black;border-radius: 0.25em;box-sizing: border-box;margin-bottom: 0.5em;}#sk-container-id-3 div.sk-estimator:hover {background-color: #d4ebff;}#sk-container-id-3 div.sk-parallel-item::after {content: \"\";width: 100%;border-bottom: 1px solid gray;flex-grow: 1;}#sk-container-id-3 div.sk-label:hover label.sk-toggleable__label {background-color: #d4ebff;}#sk-container-id-3 div.sk-serial::before {content: \"\";position: absolute;border-left: 1px solid gray;box-sizing: border-box;top: 0;bottom: 0;left: 50%;z-index: 0;}#sk-container-id-3 div.sk-serial {display: flex;flex-direction: column;align-items: center;background-color: white;padding-right: 0.2em;padding-left: 0.2em;position: relative;}#sk-container-id-3 div.sk-item {position: relative;z-index: 1;}#sk-container-id-3 div.sk-parallel {display: flex;align-items: stretch;justify-content: center;background-color: white;position: relative;}#sk-container-id-3 div.sk-item::before, #sk-container-id-3 div.sk-parallel-item::before {content: \"\";position: absolute;border-left: 1px solid gray;box-sizing: border-box;top: 0;bottom: 0;left: 50%;z-index: -1;}#sk-container-id-3 div.sk-parallel-item {display: flex;flex-direction: column;z-index: 1;position: relative;background-color: white;}#sk-container-id-3 div.sk-parallel-item:first-child::after {align-self: flex-end;width: 50%;}#sk-container-id-3 div.sk-parallel-item:last-child::after {align-self: flex-start;width: 50%;}#sk-container-id-3 div.sk-parallel-item:only-child::after {width: 0;}#sk-container-id-3 div.sk-dashed-wrapped {border: 1px dashed gray;margin: 0 0.4em 0.5em 0.4em;box-sizing: border-box;padding-bottom: 0.4em;background-color: white;}#sk-container-id-3 div.sk-label label {font-family: monospace;font-weight: bold;display: inline-block;line-height: 1.2em;}#sk-container-id-3 div.sk-label-container {text-align: center;}#sk-container-id-3 div.sk-container {/* jupyter's `normalize.less` sets `[hidden] { display: none; }` but bootstrap.min.css set `[hidden] { display: none !important; }` so we also need the `!important` here to be able to override the default hidden behavior on the sphinx rendered scikit-learn.org. See: https://github.com/scikit-learn/scikit-learn/issues/21755 */display: inline-block !important;position: relative;}#sk-container-id-3 div.sk-text-repr-fallback {display: none;}</style><div id=\"sk-container-id-3\" class=\"sk-top-container\"><div class=\"sk-text-repr-fallback\"><pre>SVC(gamma=1.0, kernel=&#x27;sigmoid&#x27;)</pre><b>In a Jupyter environment, please rerun this cell to show the HTML representation or trust the notebook. <br />On GitHub, the HTML representation is unable to render, please try loading this page with nbviewer.org.</b></div><div class=\"sk-container\" hidden><div class=\"sk-item\"><div class=\"sk-estimator sk-toggleable\"><input class=\"sk-toggleable__control sk-hidden--visually\" id=\"sk-estimator-id-3\" type=\"checkbox\" checked><label for=\"sk-estimator-id-3\" class=\"sk-toggleable__label sk-toggleable__label-arrow\">SVC</label><div class=\"sk-toggleable__content\"><pre>SVC(gamma=1.0, kernel=&#x27;sigmoid&#x27;)</pre></div></div></div></div></div>"
      ],
      "text/plain": [
       "SVC(gamma=1.0, kernel='sigmoid')"
      ]
     },
     "execution_count": 39,
     "metadata": {},
     "output_type": "execute_result"
    }
   ],
   "source": [
    "sv.fit(X_train_tfidf,y_train)"
   ]
  },
  {
   "cell_type": "code",
   "execution_count": 41,
   "metadata": {},
   "outputs": [],
   "source": [
    "import pickle\n",
    "with open('two_graph.pkl', 'wb') as f:\n",
    "    pickle.dump(sv, f)"
   ]
  },
  {
   "cell_type": "code",
   "execution_count": 42,
   "metadata": {},
   "outputs": [],
   "source": [
    "with open('two_graph.pkl', 'rb') as f:\n",
    "    loaded_model = pickle.load(f)"
   ]
  }
 ],
 "metadata": {
  "kernelspec": {
   "display_name": "Python 3",
   "language": "python",
   "name": "python3"
  },
  "language_info": {
   "codemirror_mode": {
    "name": "ipython",
    "version": 3
   },
   "file_extension": ".py",
   "mimetype": "text/x-python",
   "name": "python",
   "nbconvert_exporter": "python",
   "pygments_lexer": "ipython3",
   "version": "3.11.5"
  }
 },
 "nbformat": 4,
 "nbformat_minor": 2
}
